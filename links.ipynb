{
 "cells": [
  {
   "cell_type": "markdown",
   "id": "4f566f88",
   "metadata": {},
   "source": [
    "https://www.freecodecamp.org/news/how-to-build-your-first-neural-network-to-predict-house-prices-with-keras-f8db83049159/\n",
    "https://www.kaggle.com/code/samsonoo/lagos-abuja-housing-price-prediction#Predicting-Nigeria-House-Prices-(Lagos-&-Abuja)\n",
    "https://www.kaggle.com/code/chidubemndukwe/predicting-nigeria-house-prices\n",
    "\n",
    "https://www.kaggle.com/competitions/house-prices-advanced-regression-techniques/overview"
   ]
  },
  {
   "cell_type": "markdown",
   "id": "5e5b3137",
   "metadata": {},
   "source": [
    "Precision-Engineering-for-Machine-Learning/Data%20Set/train.csv"
   ]
  }
 ],
 "metadata": {
  "kernelspec": {
   "display_name": "Python 3 (ipykernel)",
   "language": "python",
   "name": "python3"
  },
  "language_info": {
   "codemirror_mode": {
    "name": "ipython",
    "version": 3
   },
   "file_extension": ".py",
   "mimetype": "text/x-python",
   "name": "python",
   "nbconvert_exporter": "python",
   "pygments_lexer": "ipython3",
   "version": "3.10.9"
  }
 },
 "nbformat": 4,
 "nbformat_minor": 5
}
