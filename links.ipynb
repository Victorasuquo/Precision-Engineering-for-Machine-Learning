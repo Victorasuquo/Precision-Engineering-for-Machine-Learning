{
 "cells": [
  {
   "cell_type": "markdown",
   "id": "4f566f88",
   "metadata": {},
   "source": [
    "\n",
    "https://www.freecodecamp.org/news/how-to-build-your-first-neural-network-to-predict-house-prices-with-keras-f8db83049159/\n",
    "https://www.kaggle.com/code/samsonoo/lagos-abuja-housing-price-prediction#Predicting-Nigeria-House-Prices-(Lagos-&-Abuja)\n",
    "https://www.kaggle.com/code/chidubemndukwe/predicting-nigeria-house-prices\n",
    "\n",
    "https://www.kaggle.com/competitions/house-prices-advanced-regression-techniques/overview\n",
    "\n",
    "https://www.kaggle.com/code/alexisbcook/categorical-variables\n",
    "\n",
    "https://colab.research.google.com/drive/1zZqZWRusF9R_-d2AUIKIJBnRjEth5z63?usp=sharing\n",
    "\n",
    "https://medium.com/analytics-vidhya/cross-validation-what-why-and-how-machine-learning-f8a1159ce5ff"
   ]
  },
  {
   "cell_type": "markdown",
   "id": "5e5b3137",
   "metadata": {},
   "source": [
    "Precision-Engineering-for-Machine-Learning/Data%20Set/train.csv"
   ]
  },
  {
   "cell_type": "code",
   "execution_count": null,
   "id": "98eade9c",
   "metadata": {},
   "outputs": [],
   "source": []
  }
 ],
 "metadata": {
  "kernelspec": {
   "display_name": "Python 3 (ipykernel)",
   "language": "python",
   "name": "python3"
  },
  "language_info": {
   "codemirror_mode": {
    "name": "ipython",
    "version": 3
   },
   "file_extension": ".py",
   "mimetype": "text/x-python",
   "name": "python",
   "nbconvert_exporter": "python",
   "pygments_lexer": "ipython3",
   "version": "3.10.9"
  }
 },
 "nbformat": 4,
 "nbformat_minor": 5
}
